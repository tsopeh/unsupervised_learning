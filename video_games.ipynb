{
 "cells": [
  {
   "cell_type": "code",
   "execution_count": 602,
   "metadata": {},
   "outputs": [],
   "source": [
    "\n",
    "import matplotlib.pyplot as plt\n",
    "import numpy as np\n",
    "import pandas as pd\n",
    "import seaborn as sns\n",
    "from sklearn.cluster import KMeans\n",
    "from sklearn.pipeline import Pipeline\n",
    "from sklearn.preprocessing import StandardScaler"
   ]
  },
  {
   "cell_type": "markdown",
   "metadata": {},
   "source": [
    "## Global parameters setup"
   ]
  },
  {
   "cell_type": "markdown",
   "metadata": {},
   "source": [
    "Executing methods that do some data transformation which involves randomness (i.e. sampling or data splitting) yields different result for each run. In order to have predictable results we can leverage the function argument called `random_state` and set it to a constant value (`randomness_id`)."
   ]
  },
  {
   "cell_type": "code",
   "execution_count": 603,
   "metadata": {
    "pycharm": {
     "name": "#%%\n"
    }
   },
   "outputs": [],
   "source": [
    "# @formatter:off\n",
    "%matplotlib inline\n",
    "# %matplotlib notebook\n",
    "# @formatter:on\n",
    "randomness_id = 5100\n",
    "np.random.seed(randomness_id)"
   ]
  },
  {
   "cell_type": "code",
   "execution_count": 604,
   "metadata": {
    "pycharm": {
     "name": "#%%\n"
    }
   },
   "outputs": [
    {
     "data": {
      "text/plain": "(16719, 16)"
     },
     "execution_count": 604,
     "metadata": {},
     "output_type": "execute_result"
    }
   ],
   "source": [
    "df = pd.read_csv(\"./data/Video_Games_Sales_as_at_22_Dec_2016.csv\")\n",
    "df.shape"
   ]
  },
  {
   "cell_type": "code",
   "execution_count": 605,
   "metadata": {
    "pycharm": {
     "name": "#%%\n"
    }
   },
   "outputs": [
    {
     "data": {
      "text/plain": "                       Name Platform  Year_of_Release         Genre Publisher  \\\n0                Wii Sports      Wii           2006.0        Sports  Nintendo   \n1         Super Mario Bros.      NES           1985.0      Platform  Nintendo   \n2            Mario Kart Wii      Wii           2008.0        Racing  Nintendo   \n3         Wii Sports Resort      Wii           2009.0        Sports  Nintendo   \n4  Pokemon Red/Pokemon Blue       GB           1996.0  Role-Playing  Nintendo   \n\n   NA_Sales  EU_Sales  JP_Sales  Other_Sales  Global_Sales  Critic_Score  \\\n0     41.36     28.96      3.77         8.45         82.53          76.0   \n1     29.08      3.58      6.81         0.77         40.24           NaN   \n2     15.68     12.76      3.79         3.29         35.52          82.0   \n3     15.61     10.93      3.28         2.95         32.77          80.0   \n4     11.27      8.89     10.22         1.00         31.37           NaN   \n\n   Critic_Count User_Score  User_Count Developer Rating  \n0          51.0          8       322.0  Nintendo      E  \n1           NaN        NaN         NaN       NaN    NaN  \n2          73.0        8.3       709.0  Nintendo      E  \n3          73.0          8       192.0  Nintendo      E  \n4           NaN        NaN         NaN       NaN    NaN  ",
      "text/html": "<div>\n<style scoped>\n    .dataframe tbody tr th:only-of-type {\n        vertical-align: middle;\n    }\n\n    .dataframe tbody tr th {\n        vertical-align: top;\n    }\n\n    .dataframe thead th {\n        text-align: right;\n    }\n</style>\n<table border=\"1\" class=\"dataframe\">\n  <thead>\n    <tr style=\"text-align: right;\">\n      <th></th>\n      <th>Name</th>\n      <th>Platform</th>\n      <th>Year_of_Release</th>\n      <th>Genre</th>\n      <th>Publisher</th>\n      <th>NA_Sales</th>\n      <th>EU_Sales</th>\n      <th>JP_Sales</th>\n      <th>Other_Sales</th>\n      <th>Global_Sales</th>\n      <th>Critic_Score</th>\n      <th>Critic_Count</th>\n      <th>User_Score</th>\n      <th>User_Count</th>\n      <th>Developer</th>\n      <th>Rating</th>\n    </tr>\n  </thead>\n  <tbody>\n    <tr>\n      <th>0</th>\n      <td>Wii Sports</td>\n      <td>Wii</td>\n      <td>2006.0</td>\n      <td>Sports</td>\n      <td>Nintendo</td>\n      <td>41.36</td>\n      <td>28.96</td>\n      <td>3.77</td>\n      <td>8.45</td>\n      <td>82.53</td>\n      <td>76.0</td>\n      <td>51.0</td>\n      <td>8</td>\n      <td>322.0</td>\n      <td>Nintendo</td>\n      <td>E</td>\n    </tr>\n    <tr>\n      <th>1</th>\n      <td>Super Mario Bros.</td>\n      <td>NES</td>\n      <td>1985.0</td>\n      <td>Platform</td>\n      <td>Nintendo</td>\n      <td>29.08</td>\n      <td>3.58</td>\n      <td>6.81</td>\n      <td>0.77</td>\n      <td>40.24</td>\n      <td>NaN</td>\n      <td>NaN</td>\n      <td>NaN</td>\n      <td>NaN</td>\n      <td>NaN</td>\n      <td>NaN</td>\n    </tr>\n    <tr>\n      <th>2</th>\n      <td>Mario Kart Wii</td>\n      <td>Wii</td>\n      <td>2008.0</td>\n      <td>Racing</td>\n      <td>Nintendo</td>\n      <td>15.68</td>\n      <td>12.76</td>\n      <td>3.79</td>\n      <td>3.29</td>\n      <td>35.52</td>\n      <td>82.0</td>\n      <td>73.0</td>\n      <td>8.3</td>\n      <td>709.0</td>\n      <td>Nintendo</td>\n      <td>E</td>\n    </tr>\n    <tr>\n      <th>3</th>\n      <td>Wii Sports Resort</td>\n      <td>Wii</td>\n      <td>2009.0</td>\n      <td>Sports</td>\n      <td>Nintendo</td>\n      <td>15.61</td>\n      <td>10.93</td>\n      <td>3.28</td>\n      <td>2.95</td>\n      <td>32.77</td>\n      <td>80.0</td>\n      <td>73.0</td>\n      <td>8</td>\n      <td>192.0</td>\n      <td>Nintendo</td>\n      <td>E</td>\n    </tr>\n    <tr>\n      <th>4</th>\n      <td>Pokemon Red/Pokemon Blue</td>\n      <td>GB</td>\n      <td>1996.0</td>\n      <td>Role-Playing</td>\n      <td>Nintendo</td>\n      <td>11.27</td>\n      <td>8.89</td>\n      <td>10.22</td>\n      <td>1.00</td>\n      <td>31.37</td>\n      <td>NaN</td>\n      <td>NaN</td>\n      <td>NaN</td>\n      <td>NaN</td>\n      <td>NaN</td>\n      <td>NaN</td>\n    </tr>\n  </tbody>\n</table>\n</div>"
     },
     "execution_count": 605,
     "metadata": {},
     "output_type": "execute_result"
    }
   ],
   "source": [
    "df.head()"
   ]
  },
  {
   "cell_type": "code",
   "execution_count": 606,
   "metadata": {
    "pycharm": {
     "name": "#%%\n"
    }
   },
   "outputs": [
    {
     "name": "stdout",
     "output_type": "stream",
     "text": [
      "<class 'pandas.core.frame.DataFrame'>\n",
      "RangeIndex: 16719 entries, 0 to 16718\n",
      "Data columns (total 16 columns):\n",
      " #   Column           Non-Null Count  Dtype  \n",
      "---  ------           --------------  -----  \n",
      " 0   Name             16717 non-null  object \n",
      " 1   Platform         16719 non-null  object \n",
      " 2   Year_of_Release  16450 non-null  float64\n",
      " 3   Genre            16717 non-null  object \n",
      " 4   Publisher        16665 non-null  object \n",
      " 5   NA_Sales         16719 non-null  float64\n",
      " 6   EU_Sales         16719 non-null  float64\n",
      " 7   JP_Sales         16719 non-null  float64\n",
      " 8   Other_Sales      16719 non-null  float64\n",
      " 9   Global_Sales     16719 non-null  float64\n",
      " 10  Critic_Score     8137 non-null   float64\n",
      " 11  Critic_Count     8137 non-null   float64\n",
      " 12  User_Score       10015 non-null  object \n",
      " 13  User_Count       7590 non-null   float64\n",
      " 14  Developer        10096 non-null  object \n",
      " 15  Rating           9950 non-null   object \n",
      "dtypes: float64(9), object(7)\n",
      "memory usage: 2.0+ MB\n"
     ]
    }
   ],
   "source": [
    "df.info()"
   ]
  },
  {
   "cell_type": "code",
   "execution_count": 607,
   "metadata": {
    "pycharm": {
     "name": "#%%\n"
    }
   },
   "outputs": [
    {
     "name": "stdout",
     "output_type": "stream",
     "text": [
      "There are 9894 rows with missing data.\n",
      "There are 49141 missing data fields within these rows.\n"
     ]
    },
    {
     "data": {
      "text/plain": "Name                  2\nPlatform              0\nYear_of_Release     269\nGenre                 2\nPublisher            54\nNA_Sales              0\nEU_Sales              0\nJP_Sales              0\nOther_Sales           0\nGlobal_Sales          0\nCritic_Score       8582\nCritic_Count       8582\nUser_Score         9129\nUser_Count         9129\nDeveloper          6623\nRating             6769\ndtype: int64"
     },
     "execution_count": 607,
     "metadata": {},
     "output_type": "execute_result"
    }
   ],
   "source": [
    "df[\"Year_of_Release\"] = pd.to_numeric(df[\"Year_of_Release\"], errors='coerce').astype('int64', errors=\"ignore\")\n",
    "df[\"User_Score\"] = pd.to_numeric(df[\"User_Score\"], errors='coerce')\n",
    "print(f\"There are {df.isnull().any(axis=1).sum()} rows with missing data.\")\n",
    "print(f\"There are {df.isnull().sum().sum()} missing data fields within these rows.\")\n",
    "df.isnull().sum()"
   ]
  },
  {
   "cell_type": "code",
   "execution_count": 608,
   "outputs": [
    {
     "name": "stdout",
     "output_type": "stream",
     "text": [
      "<class 'pandas.core.frame.DataFrame'>\n",
      "RangeIndex: 16719 entries, 0 to 16718\n",
      "Data columns (total 16 columns):\n",
      " #   Column           Non-Null Count  Dtype  \n",
      "---  ------           --------------  -----  \n",
      " 0   Name             16717 non-null  object \n",
      " 1   Platform         16719 non-null  object \n",
      " 2   Year_of_Release  16450 non-null  float64\n",
      " 3   Genre            16717 non-null  object \n",
      " 4   Publisher        16665 non-null  object \n",
      " 5   NA_Sales         16719 non-null  float64\n",
      " 6   EU_Sales         16719 non-null  float64\n",
      " 7   JP_Sales         16719 non-null  float64\n",
      " 8   Other_Sales      16719 non-null  float64\n",
      " 9   Global_Sales     16719 non-null  float64\n",
      " 10  Critic_Score     8137 non-null   float64\n",
      " 11  Critic_Count     8137 non-null   float64\n",
      " 12  User_Score       7590 non-null   float64\n",
      " 13  User_Count       7590 non-null   float64\n",
      " 14  Developer        10096 non-null  object \n",
      " 15  Rating           9950 non-null   object \n",
      "dtypes: float64(10), object(6)\n",
      "memory usage: 2.0+ MB\n"
     ]
    }
   ],
   "source": [
    "df.info()"
   ],
   "metadata": {
    "collapsed": false,
    "pycharm": {
     "name": "#%%\n"
    }
   }
  },
  {
   "cell_type": "code",
   "execution_count": 609,
   "metadata": {
    "pycharm": {
     "name": "#%%\n"
    }
   },
   "outputs": [
    {
     "name": "stdout",
     "output_type": "stream",
     "text": [
      "<class 'pandas.core.frame.DataFrame'>\n",
      "Int64Index: 16416 entries, 0 to 16718\n",
      "Data columns (total 16 columns):\n",
      " #   Column           Non-Null Count  Dtype  \n",
      "---  ------           --------------  -----  \n",
      " 0   Name             16416 non-null  object \n",
      " 1   Platform         16416 non-null  object \n",
      " 2   Year_of_Release  16416 non-null  float64\n",
      " 3   Genre            16416 non-null  object \n",
      " 4   Publisher        16416 non-null  object \n",
      " 5   NA_Sales         16416 non-null  float64\n",
      " 6   EU_Sales         16416 non-null  float64\n",
      " 7   JP_Sales         16416 non-null  float64\n",
      " 8   Other_Sales      16416 non-null  float64\n",
      " 9   Global_Sales     16416 non-null  float64\n",
      " 10  Critic_Score     7982 non-null   float64\n",
      " 11  Critic_Count     7982 non-null   float64\n",
      " 12  User_Score       7461 non-null   float64\n",
      " 13  User_Count       7461 non-null   float64\n",
      " 14  Developer        9904 non-null   object \n",
      " 15  Rating           9767 non-null   object \n",
      "dtypes: float64(10), object(6)\n",
      "memory usage: 2.1+ MB\n"
     ]
    }
   ],
   "source": [
    "df = df[df[\"Name\"].notna() & df[\"Year_of_Release\"].notna() & df[\"Publisher\"].notna()]\n",
    "df.info()"
   ]
  },
  {
   "cell_type": "code",
   "execution_count": 610,
   "metadata": {
    "pycharm": {
     "name": "#%%\n"
    }
   },
   "outputs": [
    {
     "data": {
      "text/plain": "Name               11397\nPlatform              31\nYear_of_Release       39\nGenre                 12\nPublisher            579\nNA_Sales             401\nEU_Sales             307\nJP_Sales             244\nOther_Sales          155\nGlobal_Sales         628\nCritic_Score          81\nCritic_Count         106\nUser_Score            95\nUser_Count           883\nDeveloper           1680\nRating                 8\ndtype: int64"
     },
     "execution_count": 610,
     "metadata": {},
     "output_type": "execute_result"
    }
   ],
   "source": [
    "df.nunique(dropna=True)"
   ]
  },
  {
   "cell_type": "code",
   "execution_count": 611,
   "metadata": {
    "pycharm": {
     "name": "#%%\n"
    }
   },
   "outputs": [
    {
     "data": {
      "text/plain": "       Year_of_Release      NA_Sales      EU_Sales      JP_Sales  \\\ncount     16416.000000  16416.000000  16416.000000  16416.000000   \nmean       2006.489888      0.264129      0.146034      0.078623   \nstd           5.881148      0.819028      0.507134      0.311348   \nmin        1980.000000      0.000000      0.000000      0.000000   \n25%        2003.000000      0.000000      0.000000      0.000000   \n50%        2007.000000      0.080000      0.020000      0.000000   \n75%        2010.000000      0.240000      0.110000      0.040000   \nmax        2020.000000     41.360000     28.960000     10.220000   \n\n        Other_Sales  Global_Sales  Critic_Score  Critic_Count   User_Score  \\\ncount  16416.000000  16416.000000   7982.000000   7982.000000  7461.000000   \nmean       0.047670      0.536708     68.997119     26.440992     7.126900   \nstd        0.188156      1.559885     13.918755     19.009305     1.498886   \nmin        0.000000      0.010000     13.000000      3.000000     0.000000   \n25%        0.000000      0.060000     60.000000     12.000000     6.400000   \n50%        0.010000      0.170000     71.000000     22.000000     7.500000   \n75%        0.030000      0.470000     79.000000     36.000000     8.200000   \nmax       10.570000     82.530000     98.000000    113.000000     9.700000   \n\n         User_Count  \ncount   7461.000000  \nmean     163.008846  \nstd      563.932422  \nmin        4.000000  \n25%       10.000000  \n50%       24.000000  \n75%       81.000000  \nmax    10665.000000  ",
      "text/html": "<div>\n<style scoped>\n    .dataframe tbody tr th:only-of-type {\n        vertical-align: middle;\n    }\n\n    .dataframe tbody tr th {\n        vertical-align: top;\n    }\n\n    .dataframe thead th {\n        text-align: right;\n    }\n</style>\n<table border=\"1\" class=\"dataframe\">\n  <thead>\n    <tr style=\"text-align: right;\">\n      <th></th>\n      <th>Year_of_Release</th>\n      <th>NA_Sales</th>\n      <th>EU_Sales</th>\n      <th>JP_Sales</th>\n      <th>Other_Sales</th>\n      <th>Global_Sales</th>\n      <th>Critic_Score</th>\n      <th>Critic_Count</th>\n      <th>User_Score</th>\n      <th>User_Count</th>\n    </tr>\n  </thead>\n  <tbody>\n    <tr>\n      <th>count</th>\n      <td>16416.000000</td>\n      <td>16416.000000</td>\n      <td>16416.000000</td>\n      <td>16416.000000</td>\n      <td>16416.000000</td>\n      <td>16416.000000</td>\n      <td>7982.000000</td>\n      <td>7982.000000</td>\n      <td>7461.000000</td>\n      <td>7461.000000</td>\n    </tr>\n    <tr>\n      <th>mean</th>\n      <td>2006.489888</td>\n      <td>0.264129</td>\n      <td>0.146034</td>\n      <td>0.078623</td>\n      <td>0.047670</td>\n      <td>0.536708</td>\n      <td>68.997119</td>\n      <td>26.440992</td>\n      <td>7.126900</td>\n      <td>163.008846</td>\n    </tr>\n    <tr>\n      <th>std</th>\n      <td>5.881148</td>\n      <td>0.819028</td>\n      <td>0.507134</td>\n      <td>0.311348</td>\n      <td>0.188156</td>\n      <td>1.559885</td>\n      <td>13.918755</td>\n      <td>19.009305</td>\n      <td>1.498886</td>\n      <td>563.932422</td>\n    </tr>\n    <tr>\n      <th>min</th>\n      <td>1980.000000</td>\n      <td>0.000000</td>\n      <td>0.000000</td>\n      <td>0.000000</td>\n      <td>0.000000</td>\n      <td>0.010000</td>\n      <td>13.000000</td>\n      <td>3.000000</td>\n      <td>0.000000</td>\n      <td>4.000000</td>\n    </tr>\n    <tr>\n      <th>25%</th>\n      <td>2003.000000</td>\n      <td>0.000000</td>\n      <td>0.000000</td>\n      <td>0.000000</td>\n      <td>0.000000</td>\n      <td>0.060000</td>\n      <td>60.000000</td>\n      <td>12.000000</td>\n      <td>6.400000</td>\n      <td>10.000000</td>\n    </tr>\n    <tr>\n      <th>50%</th>\n      <td>2007.000000</td>\n      <td>0.080000</td>\n      <td>0.020000</td>\n      <td>0.000000</td>\n      <td>0.010000</td>\n      <td>0.170000</td>\n      <td>71.000000</td>\n      <td>22.000000</td>\n      <td>7.500000</td>\n      <td>24.000000</td>\n    </tr>\n    <tr>\n      <th>75%</th>\n      <td>2010.000000</td>\n      <td>0.240000</td>\n      <td>0.110000</td>\n      <td>0.040000</td>\n      <td>0.030000</td>\n      <td>0.470000</td>\n      <td>79.000000</td>\n      <td>36.000000</td>\n      <td>8.200000</td>\n      <td>81.000000</td>\n    </tr>\n    <tr>\n      <th>max</th>\n      <td>2020.000000</td>\n      <td>41.360000</td>\n      <td>28.960000</td>\n      <td>10.220000</td>\n      <td>10.570000</td>\n      <td>82.530000</td>\n      <td>98.000000</td>\n      <td>113.000000</td>\n      <td>9.700000</td>\n      <td>10665.000000</td>\n    </tr>\n  </tbody>\n</table>\n</div>"
     },
     "execution_count": 611,
     "metadata": {},
     "output_type": "execute_result"
    }
   ],
   "source": [
    "df.describe()"
   ]
  },
  {
   "cell_type": "code",
   "execution_count": 612,
   "metadata": {
    "pycharm": {
     "name": "#%%\n"
    }
   },
   "outputs": [
    {
     "data": {
      "text/plain": "<AxesSubplot:>"
     },
     "execution_count": 612,
     "metadata": {},
     "output_type": "execute_result"
    },
    {
     "data": {
      "text/plain": "<Figure size 432x288 with 2 Axes>",
      "image/png": "[encoded data removed]"
     },
     "metadata": {
      "needs_background": "light"
     },
     "output_type": "display_data"
    }
   ],
   "source": [
    "sns.heatmap(df.corr(), square=True)"
   ]
  },
  {
   "cell_type": "code",
   "execution_count": 613,
   "metadata": {
    "pycharm": {
     "name": "#%%\n"
    }
   },
   "outputs": [
    {
     "name": "stdout",
     "output_type": "stream",
     "text": [
      "(6825, 16)\n",
      "<class 'pandas.core.frame.DataFrame'>\n",
      "Int64Index: 6825 entries, 0 to 16706\n",
      "Data columns (total 16 columns):\n",
      " #   Column           Non-Null Count  Dtype  \n",
      "---  ------           --------------  -----  \n",
      " 0   Name             6825 non-null   object \n",
      " 1   Platform         6825 non-null   object \n",
      " 2   Year_of_Release  6825 non-null   float64\n",
      " 3   Genre            6825 non-null   object \n",
      " 4   Publisher        6825 non-null   object \n",
      " 5   NA_Sales         6825 non-null   float64\n",
      " 6   EU_Sales         6825 non-null   float64\n",
      " 7   JP_Sales         6825 non-null   float64\n",
      " 8   Other_Sales      6825 non-null   float64\n",
      " 9   Global_Sales     6825 non-null   float64\n",
      " 10  Critic_Score     6825 non-null   float64\n",
      " 11  Critic_Count     6825 non-null   float64\n",
      " 12  User_Score       6825 non-null   float64\n",
      " 13  User_Count       6825 non-null   float64\n",
      " 14  Developer        6825 non-null   object \n",
      " 15  Rating           6825 non-null   object \n",
      "dtypes: float64(10), object(6)\n",
      "memory usage: 906.4+ KB\n"
     ]
    }
   ],
   "source": [
    "pure_df = df[df.notna().all(axis=1)]\n",
    "print(pure_df.shape)\n",
    "pure_df.info()"
   ]
  },
  {
   "cell_type": "code",
   "execution_count": 614,
   "outputs": [
    {
     "data": {
      "text/plain": "       Year_of_Release     NA_Sales     EU_Sales     JP_Sales  Other_Sales  \\\ncount      6825.000000  6825.000000  6825.000000  6825.000000  6825.000000   \nmean       2007.436777     0.394484     0.236089     0.064158     0.082677   \nstd           4.211248     0.967385     0.687330     0.287570     0.269871   \nmin        1985.000000     0.000000     0.000000     0.000000     0.000000   \n25%        2004.000000     0.060000     0.020000     0.000000     0.010000   \n50%        2007.000000     0.150000     0.060000     0.000000     0.020000   \n75%        2011.000000     0.390000     0.210000     0.010000     0.070000   \nmax        2016.000000    41.360000    28.960000     6.500000    10.570000   \n\n       Global_Sales  Critic_Score  Critic_Count   User_Score    User_Count  \ncount   6825.000000   6825.000000   6825.000000  6825.000000   6825.000000  \nmean       0.777590     70.272088     28.931136     7.185626    174.722344  \nstd        1.963443     13.868572     19.224165     1.439942    587.428538  \nmin        0.010000     13.000000      3.000000     0.500000      4.000000  \n25%        0.110000     62.000000     14.000000     6.500000     11.000000  \n50%        0.290000     72.000000     25.000000     7.500000     27.000000  \n75%        0.750000     80.000000     39.000000     8.200000     89.000000  \nmax       82.530000     98.000000    113.000000     9.600000  10665.000000  ",
      "text/html": "<div>\n<style scoped>\n    .dataframe tbody tr th:only-of-type {\n        vertical-align: middle;\n    }\n\n    .dataframe tbody tr th {\n        vertical-align: top;\n    }\n\n    .dataframe thead th {\n        text-align: right;\n    }\n</style>\n<table border=\"1\" class=\"dataframe\">\n  <thead>\n    <tr style=\"text-align: right;\">\n      <th></th>\n      <th>Year_of_Release</th>\n      <th>NA_Sales</th>\n      <th>EU_Sales</th>\n      <th>JP_Sales</th>\n      <th>Other_Sales</th>\n      <th>Global_Sales</th>\n      <th>Critic_Score</th>\n      <th>Critic_Count</th>\n      <th>User_Score</th>\n      <th>User_Count</th>\n    </tr>\n  </thead>\n  <tbody>\n    <tr>\n      <th>count</th>\n      <td>6825.000000</td>\n      <td>6825.000000</td>\n      <td>6825.000000</td>\n      <td>6825.000000</td>\n      <td>6825.000000</td>\n      <td>6825.000000</td>\n      <td>6825.000000</td>\n      <td>6825.000000</td>\n      <td>6825.000000</td>\n      <td>6825.000000</td>\n    </tr>\n    <tr>\n      <th>mean</th>\n      <td>2007.436777</td>\n      <td>0.394484</td>\n      <td>0.236089</td>\n      <td>0.064158</td>\n      <td>0.082677</td>\n      <td>0.777590</td>\n      <td>70.272088</td>\n      <td>28.931136</td>\n      <td>7.185626</td>\n      <td>174.722344</td>\n    </tr>\n    <tr>\n      <th>std</th>\n      <td>4.211248</td>\n      <td>0.967385</td>\n      <td>0.687330</td>\n      <td>0.287570</td>\n      <td>0.269871</td>\n      <td>1.963443</td>\n      <td>13.868572</td>\n      <td>19.224165</td>\n      <td>1.439942</td>\n      <td>587.428538</td>\n    </tr>\n    <tr>\n      <th>min</th>\n      <td>1985.000000</td>\n      <td>0.000000</td>\n      <td>0.000000</td>\n      <td>0.000000</td>\n      <td>0.000000</td>\n      <td>0.010000</td>\n      <td>13.000000</td>\n      <td>3.000000</td>\n      <td>0.500000</td>\n      <td>4.000000</td>\n    </tr>\n    <tr>\n      <th>25%</th>\n      <td>2004.000000</td>\n      <td>0.060000</td>\n      <td>0.020000</td>\n      <td>0.000000</td>\n      <td>0.010000</td>\n      <td>0.110000</td>\n      <td>62.000000</td>\n      <td>14.000000</td>\n      <td>6.500000</td>\n      <td>11.000000</td>\n    </tr>\n    <tr>\n      <th>50%</th>\n      <td>2007.000000</td>\n      <td>0.150000</td>\n      <td>0.060000</td>\n      <td>0.000000</td>\n      <td>0.020000</td>\n      <td>0.290000</td>\n      <td>72.000000</td>\n      <td>25.000000</td>\n      <td>7.500000</td>\n      <td>27.000000</td>\n    </tr>\n    <tr>\n      <th>75%</th>\n      <td>2011.000000</td>\n      <td>0.390000</td>\n      <td>0.210000</td>\n      <td>0.010000</td>\n      <td>0.070000</td>\n      <td>0.750000</td>\n      <td>80.000000</td>\n      <td>39.000000</td>\n      <td>8.200000</td>\n      <td>89.000000</td>\n    </tr>\n    <tr>\n      <th>max</th>\n      <td>2016.000000</td>\n      <td>41.360000</td>\n      <td>28.960000</td>\n      <td>6.500000</td>\n      <td>10.570000</td>\n      <td>82.530000</td>\n      <td>98.000000</td>\n      <td>113.000000</td>\n      <td>9.600000</td>\n      <td>10665.000000</td>\n    </tr>\n  </tbody>\n</table>\n</div>"
     },
     "execution_count": 614,
     "metadata": {},
     "output_type": "execute_result"
    }
   ],
   "source": [
    "pure_df.describe()"
   ],
   "metadata": {
    "collapsed": false,
    "pycharm": {
     "name": "#%%\n"
    }
   }
  },
  {
   "cell_type": "code",
   "execution_count": 615,
   "outputs": [],
   "source": [
    "preprocessor = Pipeline(\n",
    "    [\n",
    "        (\"scaler\", StandardScaler()),\n",
    "    ]\n",
    ")\n",
    "\n",
    "clusterer = Pipeline(\n",
    "    [\n",
    "        (\n",
    "            \"kmeans\",\n",
    "            KMeans(\n",
    "                n_clusters=2,\n",
    "                init=\"k-means++\",\n",
    "                n_init=50,\n",
    "                max_iter=500,\n",
    "                random_state=randomness_id,\n",
    "            ),\n",
    "        ),\n",
    "    ]\n",
    ")\n",
    "\n",
    "pipe = Pipeline(\n",
    "    [\n",
    "        (\"preprocessor\", preprocessor),\n",
    "        (\"clusterer\", clusterer)\n",
    "    ]\n",
    ")\n",
    "\n",
    "\n",
    "def remove_outliers(df, col_name):\n",
    "    q_low = df[col_name].quantile(0.05)\n",
    "    q_hi = df[col_name].quantile(0.95)\n",
    "    return df[(df[col_name] > q_low) & (df[col_name] < q_hi)]"
   ],
   "metadata": {
    "collapsed": false,
    "pycharm": {
     "name": "#%%\n"
    }
   }
  },
  {
   "cell_type": "code",
   "execution_count": 616,
   "outputs": [],
   "source": [
    "sales_user = pure_df[[\"NA_Sales\", \"User_Score\"]].sample(frac=0.1, random_state=randomness_id)"
   ],
   "metadata": {
    "collapsed": false,
    "pycharm": {
     "name": "#%%\n"
    }
   }
  },
  {
   "cell_type": "code",
   "execution_count": 617,
   "outputs": [
    {
     "data": {
      "text/plain": "<Figure size 432x288 with 1 Axes>",
      "image/png": "[encoded data removed]"
     },
     "metadata": {
      "needs_background": "light"
     },
     "output_type": "display_data"
    }
   ],
   "source": [
    "labels = pipe.fit_predict(sales_user)\n",
    "centroids = pipe[\"clusterer\"][\"kmeans\"].cluster_centers_\n",
    "u_labels = np.unique(labels)\n",
    "\n",
    "scaled_df = pipe[\"preprocessor\"][\"scaler\"].transform(sales_user)\n",
    "for i in u_labels:\n",
    "    plt.scatter(scaled_df[labels == i, 0], scaled_df[labels == i, 1], label=i)\n",
    "plt.scatter(centroids[:, 0], centroids[:, 1], s=80, color='k')\n",
    "plt.legend()\n",
    "plt.show()"
   ],
   "metadata": {
    "collapsed": false,
    "pycharm": {
     "name": "#%%\n"
    }
   }
  },
  {
   "cell_type": "code",
   "execution_count": 618,
   "outputs": [
    {
     "data": {
      "text/plain": "         NA_Sales  User_Score\ncount  578.000000  578.000000\nmean     0.276125    7.248443\nstd      0.294435    1.423523\nmin      0.010000    0.600000\n25%      0.080000    6.500000\n50%      0.170000    7.600000\n75%      0.360000    8.300000\nmax      1.440000    9.500000",
      "text/html": "<div>\n<style scoped>\n    .dataframe tbody tr th:only-of-type {\n        vertical-align: middle;\n    }\n\n    .dataframe tbody tr th {\n        vertical-align: top;\n    }\n\n    .dataframe thead th {\n        text-align: right;\n    }\n</style>\n<table border=\"1\" class=\"dataframe\">\n  <thead>\n    <tr style=\"text-align: right;\">\n      <th></th>\n      <th>NA_Sales</th>\n      <th>User_Score</th>\n    </tr>\n  </thead>\n  <tbody>\n    <tr>\n      <th>count</th>\n      <td>578.000000</td>\n      <td>578.000000</td>\n    </tr>\n    <tr>\n      <th>mean</th>\n      <td>0.276125</td>\n      <td>7.248443</td>\n    </tr>\n    <tr>\n      <th>std</th>\n      <td>0.294435</td>\n      <td>1.423523</td>\n    </tr>\n    <tr>\n      <th>min</th>\n      <td>0.010000</td>\n      <td>0.600000</td>\n    </tr>\n    <tr>\n      <th>25%</th>\n      <td>0.080000</td>\n      <td>6.500000</td>\n    </tr>\n    <tr>\n      <th>50%</th>\n      <td>0.170000</td>\n      <td>7.600000</td>\n    </tr>\n    <tr>\n      <th>75%</th>\n      <td>0.360000</td>\n      <td>8.300000</td>\n    </tr>\n    <tr>\n      <th>max</th>\n      <td>1.440000</td>\n      <td>9.500000</td>\n    </tr>\n  </tbody>\n</table>\n</div>"
     },
     "execution_count": 618,
     "metadata": {},
     "output_type": "execute_result"
    }
   ],
   "source": [
    "sales_user_no_outliers = remove_outliers(sales_user, \"NA_Sales\")\n",
    "sales_user_no_outliers.describe()"
   ],
   "metadata": {
    "collapsed": false,
    "pycharm": {
     "name": "#%%\n"
    }
   }
  },
  {
   "cell_type": "code",
   "execution_count": 619,
   "outputs": [
    {
     "data": {
      "text/plain": "<Figure size 432x288 with 1 Axes>",
      "image/png": "[encoded data removed]"
     },
     "metadata": {
      "needs_background": "light"
     },
     "output_type": "display_data"
    }
   ],
   "source": [
    "labels = pipe.fit_predict(sales_user_no_outliers)\n",
    "centroids = pipe[\"clusterer\"][\"kmeans\"].cluster_centers_\n",
    "u_labels = np.unique(labels)\n",
    "\n",
    "for i in u_labels:\n",
    "    plt.scatter(sales_user_no_outliers.values[labels == i, 0], sales_user_no_outliers.values[labels == i, 1], label=i)\n",
    "plt.scatter(centroids[:, 0], centroids[:, 1], color='k')\n",
    "plt.legend()\n",
    "plt.show()"
   ],
   "metadata": {
    "collapsed": false,
    "pycharm": {
     "name": "#%%\n"
    }
   }
  }
 ],
 "metadata": {
  "kernelspec": {
   "display_name": "Python 3 (ipykernel)",
   "language": "python",
   "name": "python3"
  },
  "language_info": {
   "codemirror_mode": {
    "name": "ipython",
    "version": 2
   },
   "file_extension": ".py",
   "mimetype": "text/x-python",
   "name": "python",
   "nbconvert_exporter": "python",
   "pygments_lexer": "ipython2",
   "version": "2.7.6"
  }
 },
 "nbformat": 4,
 "nbformat_minor": 1
}